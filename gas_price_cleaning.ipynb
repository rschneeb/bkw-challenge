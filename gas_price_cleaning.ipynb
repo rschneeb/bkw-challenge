{
 "cells": [
  {
   "cell_type": "code",
   "execution_count": 1,
   "metadata": {},
   "outputs": [],
   "source": [
    "import pandas as pd\n",
    "import numpy as np\n",
    "import json\n",
    "import os\n",
    "from datetime import datetime"
   ]
  },
  {
   "cell_type": "markdown",
   "metadata": {},
   "source": [
    "## Clean Gasprices"
   ]
  },
  {
   "cell_type": "code",
   "execution_count": 2,
   "metadata": {},
   "outputs": [],
   "source": [
    "DIR_GAS_PRICES_RAW = \"data/gas_prices\"\n",
    "DIR_GAS_PRICES_CLEAN = \"data/clean_gas_prices\"\n",
    "os.makedirs(DIR_GAS_PRICES_CLEAN, exist_ok=True)\n",
    "\n",
    "# iterate over data and parse gas prices\n",
    "data_frames = []\n",
    "for file in os.listdir(DIR_GAS_PRICES_RAW):\n",
    "    with open(f\"{DIR_GAS_PRICES_RAW}/{file}\", \"r\") as fp:\n",
    "        gas_prices = json.loads(fp.read())\n",
    "\n",
    "    timestamp = pd.to_datetime(gas_prices['chart']['result'][0]['timestamp'], unit=\"s\")\n",
    "    data = gas_prices['chart']['result'][0]['indicators']['quote'][0]\n",
    "    mean_price = np.mean(np.vstack((np.array(data['low']), np.array(data['high']))), axis=0)\n",
    "\n",
    "    data_frames.append(pd.DataFrame({\n",
    "        \"timestamp\": timestamp,\n",
    "        \"gas_price\": mean_price\n",
    "    }))\n",
    "data = pd.concat(data_frames)\n",
    "\n",
    "# remove duplicates and filter to daterange 2017 - 2022\n",
    "data = data.drop_duplicates()\n",
    "data = data[(data.timestamp >= datetime(2017, 1, 1)) & (data.timestamp <= datetime(2022,1,1))]\n",
    "assert data.timestamp.unique().shape[0] == data.shape[0]\n",
    "data.timestamp = data.timestamp.dt.date\n",
    "data.reset_index(drop=True, inplace=True)\n",
    "\n",
    "# add dates when markets were closed and interpolate\n",
    "new_timestamps = pd.DataFrame({\"date\": pd.date_range(start=data.timestamp.iloc[0], end=data.timestamp.iloc[-1], freq=\"1d\")})\n",
    "new_timestamps.date = new_timestamps.date.dt.date\n",
    "data = pd.merge(left=new_timestamps, right=data, left_on=\"date\", right_on=\"timestamp\", how='left')\n",
    "data.drop(columns=[\"timestamp\"], inplace=True)\n",
    "data['gas_price'] = data['gas_price'].interpolate(method=\"linear\")\n",
    "\n",
    "data.to_csv(f\"{DIR_GAS_PRICES_CLEAN}/gas_prices.csv\", index=False)"
   ]
  }
 ],
 "metadata": {
  "kernelspec": {
   "display_name": "venv",
   "language": "python",
   "name": "python3"
  },
  "language_info": {
   "codemirror_mode": {
    "name": "ipython",
    "version": 3
   },
   "file_extension": ".py",
   "mimetype": "text/x-python",
   "name": "python",
   "nbconvert_exporter": "python",
   "pygments_lexer": "ipython3",
   "version": "3.11.0"
  }
 },
 "nbformat": 4,
 "nbformat_minor": 2
}
